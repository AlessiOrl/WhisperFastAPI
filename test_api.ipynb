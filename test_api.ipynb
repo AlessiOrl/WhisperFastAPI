{
 "cells": [
  {
   "cell_type": "code",
   "execution_count": 92,
   "metadata": {},
   "outputs": [],
   "source": [
    "import requests\n",
    "import json, os\n",
    "url =  \"http://127.0.0.1:8000\""
   ]
  },
  {
   "cell_type": "code",
   "execution_count": 94,
   "metadata": {},
   "outputs": [
    {
     "name": "stdout",
     "output_type": "stream",
     "text": [
      "{\"health_check\":\"ok\",\"timestamp\":\"2025-03-09T01:05:13.096813\"}\n"
     ]
    }
   ],
   "source": [
    "path = f\"{url}\"\n",
    "res = requests.get(path)\n",
    "print(res.text)"
   ]
  },
  {
   "cell_type": "code",
   "execution_count": 101,
   "metadata": {},
   "outputs": [
    {
     "name": "stdout",
     "output_type": "stream",
     "text": [
      "data\\audio3.ogg:  Grazie, comunque non l'avevo visto l'ora, non l'avevo decisamente visto l'ora, mi ha detto che carino, non si è stato fatto viaggere, però dico, ok, non l'avevo visto l'ora, ho capito dopo perché me l'hai mandato, Io sto tornando adesso E tranquillo comunque, nel senso, puoi anche non recuperare la storia di buona... Cioè, probabilmente avrò perso anche un botto di tempo in realtà a parlare appunto mentre cammino con la struzione tuttora E quindi, puoi proprio tranquillo Grazie per la commentarsi la camicia e ha fatto vedere anche delle foto a Cardullo di... Decagia ho il maglione rosa se l'avessi mandato forse ti eravamo mandato Però che ormai dopo ti faccio vedere Tipo forse ti ero mandato quando l'avevo preso Un paio di settimane fa E Forse un po' meno Ah un paio di settimane fa dai E Ha fatto vedere a Carduno la foto del vestito Quello spacco e sono tipo, corsato dall'altra parte della storia ho fatto vedere anche come mi è messo stasera e poi lei invece ha detto nooo, adesso che si fa? ok, guardiamola si, e mi ha detto nooo e vedi che infatti mi ha messo praticamente rettivamente all'angolo in un certo punto e allora tipo no via e tipo io me lo sono sgusciato e mi sono buonissi anche fa guardiamo e c'è perché sono telefono e fa dai me lo sblocchi e io no e poi mi ha detto fanculo e poi si mette a fare vedere la foto di nuovo e basta perché non pu puoi guardarla in posta, senza... la c'è al posto, ho visto, al posto così... e poi mi ha fatto l'imbarazzo del fatto che... nel senso di vedere la foto non sarebbe niente di male, quello altro. In effetti mi fa... Daniela fa... non accetto che per me, mi dici mi sono pentita, ma sai che sarà così? Fa, se lo sai allora, faccio pensi che lo so. E vabbè, insomma, quindi alla fine ce l'ho mostrata, che comunque sarebbe un body rosso, con le maniche leggermente trasparenti ma non tanto, cioè bordeaux in realtà, che maniche lunghe, con un po' ricciato tipo in vita. E poi le pantaloni che ho preso ieri appunto a vita abbastanza alta in realtà, di pelle, neri, corti, con le calze sotto. Che però le calze hanno un buco, mio malgrado. Non so se fate andare lo stesso con quelle, mi hanno detto cambiare. Non so, non si vuole tanto. Se mi preferite, vediamo la not prenderla adesso la del Zenith, ma puntualmente Zenith non le ha, quella almeno che qua. Quindi probabilmente ce la vuole quella di Padova, però dovrebbe andare da tutta altra parte praticamente, perché oggi appunto per\n"
     ]
    }
   ],
   "source": [
    "path = f\"{url}/predict/1?remove=False\"\n",
    "res = requests.get(path)\n",
    "\n",
    "for key, value in json.loads(res.text).items():\n",
    "    print(f\"{key}: {value}\")"
   ]
  },
  {
   "cell_type": "code",
   "execution_count": 104,
   "metadata": {},
   "outputs": [
    {
     "name": "stdout",
     "output_type": "stream",
     "text": [
      "[\"audio3.ogg\"]\n"
     ]
    }
   ],
   "source": [
    "# load audio file in bytes\n",
    "filename = \"audio3.ogg\"\n",
    "audio_file_path = os.path.join(\"data_from\", filename)\n",
    "path = f\"{url}/queue/1\"\n",
    "\n",
    "files = {'audio_file':  open(audio_file_path, 'rb')}\n",
    "\n",
    "res = requests.post(path, files=files)\n",
    "print(res.text)"
   ]
  },
  {
   "cell_type": "code",
   "execution_count": 105,
   "metadata": {},
   "outputs": [
    {
     "name": "stdout",
     "output_type": "stream",
     "text": [
      "[\"audio3.ogg\"]\n"
     ]
    }
   ],
   "source": [
    "path = f\"{url}/queue/1\"\n",
    "res = requests.get(path)\n",
    "print(res.text)"
   ]
  },
  {
   "cell_type": "code",
   "execution_count": 106,
   "metadata": {},
   "outputs": [
    {
     "name": "stdout",
     "output_type": "stream",
     "text": [
      "[]\n"
     ]
    }
   ],
   "source": [
    "path = f\"{url}/clear_queue/1\"\n",
    "res = requests.get(path)\n",
    "print(res.text)"
   ]
  }
 ],
 "metadata": {
  "kernelspec": {
   "display_name": "cuda",
   "language": "python",
   "name": "python3"
  },
  "language_info": {
   "codemirror_mode": {
    "name": "ipython",
    "version": 3
   },
   "file_extension": ".py",
   "mimetype": "text/x-python",
   "name": "python",
   "nbconvert_exporter": "python",
   "pygments_lexer": "ipython3",
   "version": "3.13.2"
  }
 },
 "nbformat": 4,
 "nbformat_minor": 2
}
